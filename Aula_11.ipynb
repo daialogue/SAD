{
 "cells": [
  {
   "cell_type": "markdown",
   "metadata": {},
   "source": [
    "# AULA 11 - K-NEAREST-NEIGHBORS (KNN)\n",
    "---"
   ]
  },
  {
   "cell_type": "markdown",
   "metadata": {},
   "source": [
    "K-Nearest-Neightbors (KNN) é chamado um modelo de aprendizagem do tipo Lazy Learner: atrasa o processo de criação do modelo a partir dos dados de treino até que seja necessário classificar as instâncias não vistas.\n",
    "\n",
    "O classificador KNN, que memoriza todos os dados de treino e executa cria um modelo somente na altura de classificação.\n",
    "\n",
    "A instância de teste é classificada de acordo com a classificação maioritária dada aos seus vizinhos do dataset de treino.\n",
    "\n",
    "\n",
    "<img src=\"images/knn_1.png\" style=\"width:30%\"/>\n",
    "\n",
    "Para que este método possa funcionar precisamos de\n",
    "\n",
    "- Valor de k, o número de vizinhos mais próximos para recuperar\n",
    "- Métrica de distância (como medir distâncias) para calcular a distância entre instâncias\n",
    "- Um modo de classificação final: por exemplo, usar os labels da classe dos vizinhos mais próximos para determinar a label da classe da nova instância (por exemplo, tomando o voto da maioria)"
   ]
  },
  {
   "cell_type": "markdown",
   "metadata": {},
   "source": [
    "#### Escolha de k\n",
    "\n",
    "Repare-se como a escolha de vizinhos pode alterar a classe de uma dada posição.\n",
    "\n",
    "<img src=\"images/knn_1-2-3.png\" style=\"width:50%\"/>\n",
    "\n",
    "- Se k é muito pequeno, o classificador é sensível a pontos de ruído (ou outliers)\n",
    "- Se k é muito grande torna-se computacionalmente intensivo e a vizinhança pode incluir pontos de outras classes\n",
    "\n",
    "\n",
    "No caso de k = 1 estamos numa situação de fronteira entre pontos que correspondem às suas bissectrizes:\n",
    "\n",
    "<img src=\"images/knn_voronoi.png\" style=\"width:50%\"/>\n",
    "\n",
    "A este diagrama da-se o nome de diagrama de voronoi (que é usado em muitas outras áreas da engenharia)."
   ]
  },
  {
   "cell_type": "markdown",
   "metadata": {},
   "source": [
    "#### Escolha de uma métrica para medir distância\n",
    "\n",
    "Para atributos contínuos, usamos a métrica euclidena,\n",
    "\n",
    "$$ d(x,y) = \\sqrt{\\sum_i^D(p_i-q_i)^2}$$\n",
    "\n",
    "onde existem D atributos mensuráveis.\n",
    "\n",
    "\n",
    "#### Weighted Distance \n",
    "\n",
    "Permite ponderar o voto de acordo com a distância\n",
    "    – Weight factor, $w = 1 / d^2$\n",
    "\n",
    "Acarreta o problema de aumentar a necessidades de cálculo.\n",
    "\n",
    "\n",
    "#### Problemas \n",
    "\n",
    "- Não constrói modelos explicitamente\n",
    "- Classificar instâncias é caro\n",
    "- É preciso algumas passagens de pre-processamento\n"
   ]
  },
  {
   "cell_type": "markdown",
   "metadata": {},
   "source": [
    "#### 2 preprocessamentos Fundamentais:\n",
    "\n",
    "- A normalização dos dados (ou Standartização) é fundamental;\n",
    "- One-Hot Encoding é necessária para atributos discretos, sem ordem e sem algebra associada;\n"
   ]
  },
  {
   "cell_type": "markdown",
   "metadata": {},
   "source": [
    "# sklearn\n",
    "\n",
    "----"
   ]
  },
  {
   "cell_type": "code",
   "execution_count": 37,
   "metadata": {},
   "outputs": [
    {
     "name": "stdout",
     "output_type": "stream",
     "text": [
      "Features: ['setosa' 'versicolor' 'virginica']\n",
      "score_train: 1.0\n",
      "score_test: 0.955555555556\n"
     ]
    }
   ],
   "source": [
    "# Start by importing the modules\n",
    "\n",
    "from sklearn import datasets, model_selection, neighbors\n",
    "import pandas as pd\n",
    "import numpy as np\n",
    "import matplotlib.pyplot as plt\n",
    "\n",
    "n_neighbors = 15\n",
    "weights = 'distance' \n",
    "\n",
    "Iris = datasets.load_iris()\n",
    "\n",
    "[features_train, features_test, classes_train, classes_test] = model_selection.train_test_split(Iris.data, Iris.target, test_size=0.30)\n",
    "\n",
    "model = neighbors.KNeighborsClassifier(n_neighbors, weights=weights)\n",
    "clf = model.fit(features_train, classes_train)\n",
    "\n",
    "score_train = model.score(features_train, classes_train)\n",
    "score_test = model.score(features_test, classes_test)\n",
    "\n",
    "print(\"Features:\", Iris.target_names)\n",
    "print(\"score_train:\", score_train)\n",
    "print(\"score_test:\", score_test)"
   ]
  },
  {
   "cell_type": "markdown",
   "metadata": {},
   "source": [
    "<img src=\"images/knn_iris.png\" style=\"width:50%\"/>"
   ]
  },
  {
   "cell_type": "markdown",
   "metadata": {},
   "source": [
    "----\n",
    "\n",
    "\n",
    "Comparação de Alguns Classificadores dados\n",
    "\n",
    "\n",
    "<img src=\"images/classifiers_summary.png\" style=\"width:80%\"/>"
   ]
  }
 ],
 "metadata": {
  "kernelspec": {
   "display_name": "Python 3",
   "language": "python",
   "name": "python3"
  },
  "language_info": {
   "codemirror_mode": {
    "name": "ipython",
    "version": 3
   },
   "file_extension": ".py",
   "mimetype": "text/x-python",
   "name": "python",
   "nbconvert_exporter": "python",
   "pygments_lexer": "ipython3",
   "version": "3.6.0"
  }
 },
 "nbformat": 4,
 "nbformat_minor": 2
}
