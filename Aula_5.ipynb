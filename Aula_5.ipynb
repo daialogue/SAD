{
 "cells": [
  {
   "cell_type": "markdown",
   "metadata": {
    "slideshow": {
     "slide_type": "slide"
    }
   },
   "source": [
    "# Aula 5 - DataSets e Data *Preprocessing*"
   ]
  },
  {
   "cell_type": "markdown",
   "metadata": {
    "slideshow": {
     "slide_type": "slide"
    }
   },
   "source": [
    "# Data Sets\n",
    "---\n",
    "\n",
    "\n",
    "### O que é um Data Set? Um \"conjunto de dados\"? \n",
    "\n",
    "É na verdade uma **coleção de objectos (data Objects)** .\n",
    "Assim, relembrando programação por obejctos\n",
    "\n",
    "<font style=\"color:forestgreen\">\n",
    "\n",
    "Um objecto é uma instância de uma qualquer classe\n",
    "</font>\n",
    "\n",
    "Em data mining, pode tambem ser chamado de  **Registo**, **sample** ou **item**\n",
    "\n",
    "\n",
    "### Um objecto é constituído por \n",
    "\n",
    "<font style=\"color:forestgreen\">\n",
    "Atributos (descrevem objetos) são características de um \"objeto\" que variam de objecto para objecto ou ao longo do tempo, para o mesmo \"objeto\". </font>\n",
    "Também chamados de variáveis, campos, características, dimensão ou **features** (esta última muito usada em Machine Learning)\n",
    "\n",
    "\n"
   ]
  },
  {
   "cell_type": "markdown",
   "metadata": {
    "slideshow": {
     "slide_type": "slide"
    }
   },
   "source": [
    "# Attributos ou Features\n",
    "\n",
    "Features podem ser Categóricos (qualitativos) Vs Quantitativos"
   ]
  },
  {
   "cell_type": "markdown",
   "metadata": {
    "slideshow": {
     "slide_type": "-"
    }
   },
   "source": [
    "\n",
    "\n",
    "#### Atributos Discretos (ou Categóricos ou Qualitativos)\n",
    "\n",
    "- Contem a noção de ordem e podem ter operações sobre eles.\n",
    "- **Um atributo discreto qualitiativo possui apenas um conjunto finito ou contável de valores.** Por exemplo: contagens de pessoas por Freguesia ou conjunto de palavras num documento;\n",
    "\n",
    "\n",
    "#### Atributos Contínuos  (Quantitativos)\n",
    "\n",
    "- **Um atributo contínuo tem valores de números reais.** Por exemplo, Temperatura, altura ou peso \n",
    "- Os atributos contínuos são tipicamente representados como variáveis de virgula flutuante (floating point);"
   ]
  },
  {
   "cell_type": "markdown",
   "metadata": {
    "slideshow": {
     "slide_type": "slide"
    }
   },
   "source": [
    "## Features Categóricas\n",
    "\n",
    "Features Categóricas, são \"etiquetas\" que podemos usar para caracterizar um objecto. No máximo existe uma ordem, mas normalmente trata-se simplesmente de um identificador de uma dada característica.\n",
    "\n",
    "Por exemplo, num cliente, os atributos: \n",
    "- Tipo de Cliente: {Contacto, Prospect, Cliente Cliente Premium} - Etiqueta com ordem subjacente;\n",
    "- Região: {Norte Sul, Centro, Ilhas} - Etiqueta sem ordem subjacente;\n",
    "\n",
    "Entre atributos Qualitativos, distinugimos\n",
    "\n",
    "#### Atributos Discretos Qualitativos\n",
    "\n",
    "- Contem a noção de ordem;\n",
    "- **Um atributo discreto possui apenas um conjunto finito ou contável de valores.** Por exemplo: Código postal;\n",
    "- Pode m ou não ser representados por números mas essa numeração é meramente uma etiqueta (ão sao feitas operações de somar sobre codigos postais!)\n",
    "\n",
    "#### Atributos Binários\n",
    "\n",
    "- **Os atributos binários são um caso especial de atributos discretos e assumem apenas dois valores**\n",
    "- Por exemplo. {Sim,Não}, {True, False}, {masculino, feminino}\n",
    "- Os atributos binários são frequentemente representados como variáveis booleanas ou como variáveis inteiras que assumem os valores 0 ou 1, associados a uma codificação"
   ]
  },
  {
   "cell_type": "markdown",
   "metadata": {
    "slideshow": {
     "slide_type": "slide"
    }
   },
   "source": [
    "# Caractetrísticas de Um DataSet\n",
    "\n",
    "Têm genericamente 3 características importantes:\n",
    "\n",
    "- **Dimensionalidade** - é o número de atributos (dimensões como veremos no proximo slide). \n",
    "> Aside: \n",
    "> The Curse of dimensionality - Dificuldade em analisar dados com muitas dimensões; Por causa disto, muitas vezes procura-se reduzir a dimensão do dataset (dimensionality Reduction)\n",
    "- **Sparsity** - Quão distantes estão valores com significado uns dos outros; \n",
    "> Exemplo: \n",
    "> Se guardarmos um dataset de cidadãos com uma propriedade pouco comum (por exemplo pessoas com registo criminal), este data set pode listar somente os cidadão com registo criminal em vez de ter a lista de todos os cidadãos (uma vez que são muito poucos os que têm esse campo a 1)\n",
    "- **Resolution** - Define com que detalhe sabemos a informação que estamos a listar.\n",
    "> Google earth, tem \"datasets\" diferentes consoante a resolução da imagem;"
   ]
  },
  {
   "cell_type": "markdown",
   "metadata": {
    "slideshow": {
     "slide_type": "slide"
    }
   },
   "source": [
    "# Tipos de DataSets\n",
    "\n",
    "- **Record Data** - Registos semelhantes a uma tabela; Como exemplos:\n",
    "    - Dados de Transacções comerciais com multiplos items\n",
    "    - Dados sobre clientes em forma matricial, em que os atributos são os mesmos para todos os objectos\n",
    "    \n",
    "    \n",
    "- **Graph-based Data** - Grafos com multiplas conexões (relações) entre objectos. Por exemplo:\n",
    "    - Links entre paginas web.\n",
    "    - Relações complexas entre registos de uma base de dados;\n",
    "    \n",
    "    \n",
    "- **Ordered Data** - Valores cuja ordem em que aparecem são relevantes. Por exemplo: \n",
    "    - Arrays temporais de grandezas físicas(Temperatura, etc.), valores de mercado, etc;\n",
    "    - Arrays Espacio-Temporais (mapa espacial de população de um país ao longo do tempo);\n",
    "    - Sequencia do DNA;\n",
    "    "
   ]
  },
  {
   "cell_type": "markdown",
   "metadata": {
    "slideshow": {
     "slide_type": "slide"
    }
   },
   "source": [
    "# DataSets Como Nuvens de Vectores\n",
    "\n",
    "Vamos Imaginar que temos o seguinte conjunto de dados sobre vendas:\n",
    "\n",
    "|Código do Produto|Preço (€)|Vendas Mensais (unid/mes)|Volume ($cm^3$)|\n",
    "|-|-|-|-|\n",
    "|fdadfda3-3ca7-4aa4-aa28-50040b64c9bd|360| 38427|60|\n",
    "|87f28442-a248-44a4-9db0-c88bbdf565b4|159| 35229|90|\n",
    "|1064a1a4-2bdb-4082-8d5a-50d04df9408e|266| 11497|77|\n",
    "|e8a01f2b-d55e-4179-b3f0-15fe158a2917|333| 32054|66|\n",
    "|8b67b061-0804-42cd-93c9-1296a24a985d|439| 47712|67|\n",
    "|55254621-51ee-44b8-b734-b31227c3bae6|379| 48114|78|\n",
    "|4d35871e-b971-4f3d-95ad-8066e7b8109a|311| 40238|94|\n",
    "|3cbcfbef-840a-4ebd-892f-0417550fc00e|473| 12593|65|\n",
    "|a1a39089-d282-4afd-a192-e48c1808074a|259| 34294|31|\n",
    "...\n",
    "\n",
    "Se consideramos que cada um destes valores (contínuos ou discretos), assume um eixo de um espaço euclideano, podemos representar os nossos dados assim:"
   ]
  },
  {
   "cell_type": "code",
   "execution_count": 2,
   "metadata": {},
   "outputs": [],
   "source": [
    "import numpy as np\n",
    "\n",
    "A = [{\"fdadfda3-3ca7-4aa4-aa28-50040b64c9bd\":[360,38427,60]},\n",
    "     {\"87f28442-a248-44a4-9db0-c88bbdf565b4\":[159,35229,90]}, \n",
    "     {\"1064a1a4-2bdb-4082-8d5a-50d04df9408e\":[266,11497,77]}, \n",
    "     {\"e8a01f2b-d55e-4179-b3f0-15fe158a2917\":[333,32054,66]}, \n",
    "     {\"8b67b061-0804-42cd-93c9-1296a24a985d\":[439,47712,67]}, \n",
    "     {\"55254621-51ee-44b8-b734-b31227c3bae6\":[379,48114,78]}, \n",
    "     {\"4d35871e-b971-4f3d-95ad-8066e7b8109a\":[311,40238,94]}, \n",
    "     {\"3cbcfbef-840a-4ebd-892f-0417550fc00e\":[473,12593,65]}, \n",
    "     {\"a1a39089-d282-4afd-a192-e48c1808074a\":[259,34294,31]}\n",
    "    ]\n",
    "\n",
    "\n",
    "preco = np.array([list(a.values())[0][0] for a in A])\n",
    "vendas = np.array([list(a.values())[0][1] for a in A])\n",
    "vol = np.array([list(a.values())[0][2] for a in A])\n"
   ]
  },
  {
   "cell_type": "code",
   "execution_count": 11,
   "metadata": {},
   "outputs": [
    {
     "data": {
      "text/plain": [
       "<mpl_toolkits.mplot3d.art3d.Path3DCollection at 0x117ddb400>"
      ]
     },
     "execution_count": 11,
     "metadata": {},
     "output_type": "execute_result"
    },
    {
     "data": {
      "image/png": "[encoded data removed]",
      "text/plain": [
       "<Figure size 432x288 with 1 Axes>"
      ]
     },
     "metadata": {
      "needs_background": "light"
     },
     "output_type": "display_data"
    }
   ],
   "source": [
    "intX = (max(preco)-min(preco))/4\n",
    "intY = (max(vendas)-min(vendas))/4\n",
    "intZ = (max(vol)-min(vol))/4\n",
    "\n",
    "import matplotlib.pyplot as plt\n",
    "from mpl_toolkits.mplot3d import Axes3D\n",
    "\n",
    "fig = plt.figure()\n",
    "ax = fig.add_subplot(111, projection='3d')\n",
    "ax.scatter(preco, vendas, vol, 'z',s=30, c=\"black\")"
   ]
  },
  {
   "cell_type": "markdown",
   "metadata": {},
   "source": [
    "E se houvess 20 atributos?\n",
    "Não tinha problema, nós não conseguimos ver porque seriam 20D em vez de 3D, mas:\n",
    "\n",
    "**as \"distâncias\" dos pontos contínuam mensuráveis (ou seja, podemos aplicar uma métrica)**\n",
    "\n",
    "$$Dist(a, b)=  \\sqrt{(a_x-b_x)^2+(a_y-b_y)^2+...} = \\sqrt{\\sum{(a_i-b_i)^2}}$$"
   ]
  },
  {
   "cell_type": "markdown",
   "metadata": {
    "slideshow": {
     "slide_type": "slide"
    }
   },
   "source": [
    "# DataSets Como Nuvens de Vectores (cont.)\n",
    "\n",
    "\n",
    "Outro exemplo é a vizualização de documentos com base nas features \"número de vezes a palavra 'xpto' surge no documento\", como vimos, usadas para classificação. Cada documento é um vector; cada palavra é uma dimensão cujo valor é dado pelo número de vezes que aparece no documento e assim representado vectorialemente, tal como no exemplo anterior. Veja-se o exemplo com as palavras \"play\", \"team\" e \"coach\"\n",
    "\n",
    "\n",
    "<img src=\"images/vectorcloud.png\" style=\"width:80%\"/>\n",
    "\n",
    "\n",
    "\n",
    "\n"
   ]
  },
  {
   "cell_type": "markdown",
   "metadata": {
    "slideshow": {
     "slide_type": "slide"
    }
   },
   "source": [
    "# Data Quality\n",
    "---\n",
    "\n",
    "- **Noise (ruído)** - Componente aleatória do erro de medição \n",
    "- **Artefactos** - Componente determinística de um erro de medição que gera distorções reconhecidas \n",
    "- **Outliers** - Objectos Anómalos, inseperados; \n",
    "\n",
    "\n",
    "### Exemplos de Qualidade de Dados com base num detector de videos com gatos:\n",
    "\n",
    "> **Ruído:** flutuação da câmara de filmar devido à mão do fotógrafo abanar\n",
    "\n",
    "> **Artefactos:** risco na lente da câmara de filmar ao longo de todos dos dados (videos);\n",
    "\n",
    "> **Outliers:** imagens com 2 gatos, quando so se esperava 1 gato por imagem;\n",
    "\n",
    "\n",
    "outros problemas com dados: \n",
    "\n",
    "- **Missing values** \n",
    "- **Duplicate data**\n",
    "\n",
    "\n",
    "### Como gerir missing data : \n",
    "\n",
    "- **Ignorar instâncias com valores em falta** - grandes quantidades de dados perdidos ?!\n",
    "- **Estimar a partir de instâncias \"Vizinhas\"** - Dados em falta de acções na bolsa (ou consumos de energia eléctrica) podem ser encontrados por interpolação de vizinhos. \n",
    "\n",
    "\n",
    "### Como gerir duplicate data : \n",
    "- **Ignorar objetos com valores duplicados** - grandes quantidades de dados perdidos ?!\n",
    "- **Perceber se existem features que diferenciem as instâncias**\n"
   ]
  },
  {
   "cell_type": "markdown",
   "metadata": {
    "slideshow": {
     "slide_type": "slide"
    }
   },
   "source": [
    "# Pre-processamento de Dados \n",
    "\n",
    "---\n",
    "\n",
    "Esta área é absolutamente fundamental em Data Mining, em particular em sistemas de Apoio à Decisão. \n",
    "\n",
    "> Na realidade estamos a Falar do \"Transform\" num sistema de ETL ou ELT;\n",
    "\n",
    "Vamos falar de 2 tipos de preprocessamento: \n",
    "\n",
    "1) **Preparação de Dados** - Para que os modelos possam ser aplicaveis aos dados\n",
    "\n",
    "- Binarização\n",
    "- Discretização\n",
    "- Normalização\n",
    "- Transformação\n",
    "\n",
    "\n",
    "2) **Redução da quantidade de dados** - para que os modelos sejam implementáveis;\n",
    "\n",
    "- Agregação \n",
    "- Sampling\n",
    "- Redução de Dimensionalidade (Eliminar Atributos)\n",
    "\n",
    "\n",
    "> De Referir que muitos dos métodos aqui falados são eles próprios alvo de algoritmos de *Machine Learning*, como aqueles que falaremos nas próximas aulas;"
   ]
  },
  {
   "cell_type": "markdown",
   "metadata": {
    "slideshow": {
     "slide_type": "slide"
    }
   },
   "source": [
    "## Discretização e Binarização\n",
    "---\n",
    "<font style=\"color:forestgreen\">\n",
    "Alguns algoritmos obrigam à utilização de variáveis discretas em vez de contínuas.\n",
    "</font>\n",
    "\n",
    "O processo de criação (ou transformação) de variáveis contínuas em discretas pode ser feito por arredondando números reais para números inteiros; \n",
    "\n",
    "Caso a nova variável discreta so possa ter 2 valores distintos chama-se ao processo binarização (variável boleana)."
   ]
  },
  {
   "cell_type": "markdown",
   "metadata": {
    "slideshow": {
     "slide_type": "slide"
    }
   },
   "source": [
    "## Discretização e Binarização (cont.)\n",
    "---\n",
    "\n",
    "**O problema de discretização de um atributo contínuo é por vezes, por si próprio, um problema de classificação**\n",
    "\n",
    "Este problema pode ser\n",
    "\n",
    "- **supervisionado** - caso se conheçam as \"classes\" do atributo destino\n",
    "- **não supervisionado** - Caso se desconheça as classes de discretização \n",
    "\n",
    "Considere-se os seguintes dados onde os atributos são ambos contínuos:\n",
    "\n",
    "<img src=\"./images/data_discretization.png\"  style=\"width:60%\"/>\n",
    "\n",
    "\n",
    "> Quantas atributos existem? Quais são os seus intervalos de variação?"
   ]
  },
  {
   "cell_type": "markdown",
   "metadata": {
    "slideshow": {
     "slide_type": "slide"
    }
   },
   "source": [
    "## Discretização e Binarização (cont.)\n",
    "\n",
    "Vamos criar um atributo com base nestes dados que sejam ***labels*** discretas:\n",
    "\n",
    "<img src=\"./images/data_discretization_w_groups.png\"  style=\"width:60%\"/>\n",
    "\n",
    "Mas a criação destes grupos pode não ser tão clara em situações em que as \"nuvens\" são misturadas:"
   ]
  },
  {
   "cell_type": "code",
   "execution_count": 46,
   "metadata": {
    "slideshow": {
     "slide_type": "slide"
    }
   },
   "outputs": [
    {
     "data": {
      "image/png": "[encoded data removed]",
      "text/plain": [
       "<matplotlib.figure.Figure at 0x10f33fa58>"
      ]
     },
     "metadata": {},
     "output_type": "display_data"
    }
   ],
   "source": [
    "import numpy as np\n",
    "import matplotlib.pyplot as plt\n",
    "\n",
    "plt.figure()\n",
    "plt.grid()\n",
    "plt.axis('equal')\n",
    "data1 = np.random.randn(200,2)\n",
    "data2 = np.random.randn(200,2)+1.75\n",
    "plt.plot(data1[:,0],data1[:,1],  '.', color=\"b\")\n",
    "plt.plot(data2[:,0],data2[:,1],  '.', color=\"r\")\n",
    "plt.show()"
   ]
  },
  {
   "cell_type": "markdown",
   "metadata": {
    "slideshow": {
     "slide_type": "slide"
    }
   },
   "source": [
    "## Normalização\n",
    "---\n",
    "**<font style=\"color:forestgreen\">\n",
    "A normalização dos dados pode fazer uma diferença muito considerável na convergência dos modelos de classificação e regressão.\n",
    "</font>**\n",
    "\n",
    "\n",
    "A normalização permite que o algoritmo de aprendizagem possa aprender mais depressa, estabelecendo uma relação mharmonizada entre features. \n",
    "\n",
    "#### A normalização é feita aplicando média = 0 e desvio padrão ($\\sigma[X]$) = 1 à feature $X$. Assim,\n",
    "\n",
    "$$E[X] = 0 \\longrightarrow X := X-E[X]$$ \n",
    "\n",
    "$$\\sigma[X] = 1 \\longrightarrow  X := X/\\sigma[X]$$ \n",
    "\n",
    "\n",
    "---\n",
    "> Recordando:\n",
    "\n",
    "> $$E[X] = \\frac{1}{N} \\sum_{x=1}^N{x}$$\n",
    "\n",
    "> $$\\sigma[X] = \\sqrt{var[X]} = \\sqrt{\\frac{1}{N} \\sum_{x=1}^N{(E[x]-x)^2}} = \\sqrt{E[x^2] - E[x]^2}$$\n",
    "\n",
    "\n",
    "> onde \n",
    "\n",
    "> - size($X$) = $N$\n",
    "> - $var[X]$:  Variância global de $X$\n",
    "> - $\\sigma[X]$:  Desvio padrão de $X$, onde $\\sigma[X] = \\sqrt{var[X]}$\n",
    "> - $E[X]$: valor esperado ou média de $X$"
   ]
  },
  {
   "cell_type": "markdown",
   "metadata": {
    "slideshow": {
     "slide_type": "slide"
    }
   },
   "source": [
    "### Exemplo de Normalização \n",
    "\n",
    "Segue um exemplo de aplicação de normalização a duas features. Vamos imaginar dois sensores, um de velocidade escalar (v) de um drone descontrolado, que varia de forma aleatória ao longo de 300 medidas, e outra da temperatura registada no local (T) ambas com distribuição normal.\n",
    "\n",
    "- **feature v** : média de 100 km/h e desvio padrão de 10 km/h\n",
    "\n",
    "- **feature T** : média de 10ºC e desvio padrão de 0.5 ºC\n",
    "\n",
    "Queremos perceber que relação existem entre as duas grandezas..."
   ]
  },
  {
   "cell_type": "code",
   "execution_count": 36,
   "metadata": {},
   "outputs": [
    {
     "data": {
      "image/png": "[encoded data removed]",
      "text/plain": [
       "<Figure size 432x288 with 1 Axes>"
      ]
     },
     "metadata": {
      "needs_background": "light"
     },
     "output_type": "display_data"
    }
   ],
   "source": [
    "X = np.random.randn(300,2)*np.array([10,0.5]).reshape(1,2)+np.array([100,10]).reshape(1,2)\n",
    "plt.figure()\n",
    "plt.grid()\n",
    "plt.axis('equal')\n",
    "plt.plot(X[:,0],X[:,1],  '.', color=\"b\")\n",
    "plt.show()"
   ]
  },
  {
   "cell_type": "markdown",
   "metadata": {},
   "source": [
    "Vamos aplicar a normalização das duas :"
   ]
  },
  {
   "cell_type": "code",
   "execution_count": 38,
   "metadata": {},
   "outputs": [
    {
     "data": {
      "image/png": "[encoded data removed]",
      "text/plain": [
       "<Figure size 432x288 with 1 Axes>"
      ]
     },
     "metadata": {
      "needs_background": "light"
     },
     "output_type": "display_data"
    }
   ],
   "source": [
    "# Subtraíndo a média a cada valor\n",
    "X_norm = X - np.average(X,axis=0)\n",
    "\n",
    "# Dividindo pelo desvio padrão\n",
    "X_norm_final = X_norm/np.sqrt(np.var(X_norm,axis=0))\n",
    "\n",
    "plt.figure()\n",
    "plt.grid()\n",
    "plt.axis('equal')\n",
    "plt.plot(X_norm_final[:,0],X_norm_final[:,1],  '.', color=\"b\")\n",
    "plt.show()\n"
   ]
  },
  {
   "cell_type": "markdown",
   "metadata": {},
   "source": [
    "## Transformação de Features\n",
    "\n",
    "---\n",
    "\n",
    "Alguns algoritmos obrigam transformação de variáveis contínuas de forma a alterar o seu modo de influência no modelo.\n",
    "Assim, pode ser usado qualquer tipo de função $f$ tal que a nova feature $Z$ seja dada por $Z = f(X)$.\n",
    "\n",
    "São alguns exemplos:\n",
    "\n",
    "$$Z = X^k$$\n",
    "\n",
    "$$Z = log(X)$$\n",
    "\n",
    "$$Z = e^X$$\n",
    "\n",
    "$$Z = \\sqrt X$$"
   ]
  },
  {
   "cell_type": "markdown",
   "metadata": {
    "slideshow": {
     "slide_type": "slide"
    }
   },
   "source": [
    "## Agregação\n",
    "\n",
    "---\n",
    "\n",
    "<font style=\"color:forestgreen\">\n",
    "Diminuição do numero de Registos por agregação, de modo a reduzir informação a ser analisada;\n",
    "</font>\n",
    "\n",
    "### Como agregar: \n",
    "- Sum, Mean, Max, etc. para valores numéricos, consoante o objectivo. \n",
    "\n",
    "> No entanto, como fazer para classes? Vamos ver na Aula Prática alguns exemplos\n",
    "\n",
    "### Porquê agregar?\n",
    "\n",
    "- Quando temos muitos dados (milhoes de dados de transações de vendas de uma cadeia de lojas ao longo de 5 anos), podemos não conseguir aplicar algoritmos a tantos dados, mas que se tornam praticáveis se considerarmos agrupamentos por dia, semana ou mes, por exemplo;\n",
    "\n",
    "\n",
    "\n",
    "- Se considerarmos valores médios a variância reduz-se muito significativamente, pelo que os valores a analisar se tornam mais estáveis \n",
    "\n",
    "> O que perdemos? Resultados pontuais com significado\n",
    "\n",
    "\n",
    "Vamos mostrar de seguida que o resultado de um dataset agregado reduz a variância comparado com o dataset inicial"
   ]
  },
  {
   "cell_type": "code",
   "execution_count": 47,
   "metadata": {},
   "outputs": [],
   "source": [
    "import numpy as np\n",
    "\n"
   ]
  },
  {
   "cell_type": "code",
   "execution_count": 53,
   "metadata": {},
   "outputs": [
    {
     "name": "stdout",
     "output_type": "stream",
     "text": [
      "var A 0.07744026848911387\n",
      "var B 0.011719673585522878\n"
     ]
    }
   ],
   "source": [
    "A = np.random.rand(100,1)\n",
    "\n",
    "#variância da Variável A\n",
    "v = (sum(A)/A.shape[0]-A)**2\n",
    "print(\"var A\", (sum(v)/A.shape[0])[0])\n",
    "\n",
    "\n",
    "B_interm = A.reshape(5,20)\n",
    "B = B_interm.mean(axis=0)\n",
    "\n",
    "#variância da Variável B\n",
    "v = (sum(B)/B.shape[0]-B)**2\n",
    "print(\"var B\", sum(v)/B.shape[0])"
   ]
  },
  {
   "cell_type": "markdown",
   "metadata": {
    "slideshow": {
     "slide_type": "slide"
    }
   },
   "source": [
    "## Sampling\n",
    "---\n",
    "**<font style=\"color:forestgreen\">\n",
    "Amostragem (ou sampling) é o processo de compreensão de características de dados ou modelos com base num subconjunto (sample) dos dados originais (universo de dados). \n",
    "</font>**\n",
    "\n",
    "\n",
    "É amplamente utilizado em todos os aspectos de datamining porque:\n",
    "\n",
    "- Por vezes, obter todo o conjunto de \"dados de interesse\" é muito caro ou demorado\n",
    "- Por vezes, obter todo o conjunto de dados pode não ser necessário (e, portanto, um desperdício de recursos)\n",
    "- No desenvolvimento e afinação de algoritmos, o uso de um pequeno subset torna o processo itreativo de desenvolvimento muito mais rápido;\n",
    "\n",
    "\n",
    "#### Representatividade da Sample\n",
    "\n",
    "Uma sample tem que ser representativa do universo. A representatividade tem a ver com o objectivo/operação que se pretende realizar: uma sample pode ser representativa para um objectivo e não para outro;"
   ]
  },
  {
   "cell_type": "markdown",
   "metadata": {
    "slideshow": {
     "slide_type": "slide"
    }
   },
   "source": [
    "#### Processos de Sampling:\n",
    "\n",
    "- **Random  Sampling**: Existe uma probabilidade igual de selecionar qualquer registo para o sample, ou seja, a probabilidade de o registo $\\theta$ do uiverso de M registos ser escolhido para o sample de dimensão $S$ é de \n",
    "\n",
    "$$P(\\theta) = S/M$$\n",
    "\n",
    "Pode ser feito com ou sem reposição;\n",
    "\n",
    "- **Stratified Sampling**: usado quando subpopulações em análise variam significativamente de dimensão. **Considera-se random sampling por subgrupo**. Tome-se $N$ subgrupos para os quais é importante manter dados;  A probabilidade de um dado registo, pertencente ao subgrupo $i$ tem de ser escolhido é de   \n",
    "\n",
    "$$P_i(\\theta) = s_i/m_i$$\n",
    "\n",
    "onde $S = \\sum_i^N s_i$ é a dimensão do Sample e $M = \\sum_i^N m_i$ é o universo de registos e $m$ é a quantidade de regsitos de cada subgrupo. \n",
    "\n",
    "> Note-se que este processo obriga à criação de subgrupos significativos para o processo que se segue à sample. Este processo chama-se de *Stratification*. E pode, ele prórpio usar algoritmos de *clustering* por exemplo, que falaremos mais à frente  "
   ]
  },
  {
   "cell_type": "markdown",
   "metadata": {
    "slideshow": {
     "slide_type": "slide"
    }
   },
   "source": [
    "#### Dimensão do Sample\n",
    "\n",
    "A sua dimensão é muito significativa porque: \n",
    "\n",
    "- Pequenos Samples tem menor probabilidade de serem representativos;\n",
    "- Grandes Samples não trazem qualquer benefício face ao uso directo do universo de registos;\n",
    "\n",
    "\n",
    "<img src=\"images/sampling.png\"/>"
   ]
  },
  {
   "cell_type": "markdown",
   "metadata": {
    "slideshow": {
     "slide_type": "slide"
    }
   },
   "source": [
    "## Redução de Dimensionalidade\n",
    "---\n",
    "<font style=\"color:forestgreen\">\n",
    "Porque é que é importante?\n",
    "\n",
    "- Muitos algoritmos funcionam melhor se a dimensionalidade dos dados (ou seja, o número de atributos) é menor\n",
    "- Permite que os dados sejam mais facilmente visualizados\n",
    "- Se a redução da dimensionalidade elimina características irrelevantes ou reduz o ruído, a qualidade dos resultados pode melhorar\n",
    "- Pode levar a um modelo mais compreensível\n",
    "\n",
    "</font>\n",
    "\n",
    "Vamos então rever se todas as features que estamos a usar são de facto relevantes. Se não são devemos tomar medidas para reduzir o número que usamos. Que medidas?\n",
    "\n",
    "- ou **seleccionando** features realmente úteis (independentes) e descartando outras (*Redundantes ou Irrelevantes*)\n",
    "\n",
    "- ou **transformando** os registos e suas features em registos com features compostas que sejam mais relevantes (representam a quantidade máxima de variação dos dados)\n",
    "\n"
   ]
  },
  {
   "cell_type": "markdown",
   "metadata": {
    "slideshow": {
     "slide_type": "slide"
    }
   },
   "source": [
    "## Redução de Dimensionalidade (cont.)\n",
    "---\n",
    "\n",
    "### Seleccionando Features\n",
    "\n",
    "\n",
    "#### Redundant features \n",
    "\n",
    "Atributos que têm as \"mesma\" informação, por exemplo: numa transacção, preço de um produto, IVA pago pelo produto\n",
    "\n",
    "#### Irrelevant features \n",
    "\n",
    "Numa universidade, se o ID dos alunos for aleatóoio, é irrelevante para prever o sucesso do aluno.\n",
    "\n",
    "----\n",
    "\n",
    "**Como determinar features irrelevantes/redundantes?** \n",
    "\n",
    "Vamos analisar mais à frente que a forma mais indicada é perceber qual o impacto no modelo de cada feature; No entanto, features com alta correlação entre si têm tendencia a ser redundantes e features com baixa correlação com a Label (ou target) têm tendência a ser irrelevantes;\n",
    "\n",
    "---\n",
    "\n",
    "### Transformando Features\n",
    "\n",
    "Técnicas de álgebra Linear como PCA - Principal Component Analysis (semelhante ao SVD - singular value decomposition)"
   ]
  },
  {
   "cell_type": "markdown",
   "metadata": {},
   "source": [
    "# Principal Component Analysis\n",
    "(ou Singular Values Decomposition)\n",
    "\n",
    "http://setosa.io/ev/principal-component-analysis/\n",
    "\n",
    "\n",
    "PCA permite-nos descartar alguns dos eixos que não são representativos."
   ]
  },
  {
   "cell_type": "markdown",
   "metadata": {
    "slideshow": {
     "slide_type": "slide"
    }
   },
   "source": [
    "# Encodings para Features Discretas\n",
    "\n",
    "Many times in machine learning you will have a y vector with numbers ranging from 0 to C-1, where C is the number of classes. If C is for example 4, then you might have the following y vector \n",
    "\n",
    "$$ y = [1,2,3,0,2,1]$$\n",
    "\n",
    "\n",
    "### One Hot encoding\n",
    "\n",
    "If you convert it as  this\n",
    "\n",
    "\n",
    "<img src=\"images/onehot.png\" style=\"width:60%\">\n",
    "\n",
    "\n",
    "É chamado de **\"one hot\" encoding**, porque somente um elemento de todas as colunas é igual a 1 (hot). "
   ]
  },
  {
   "cell_type": "markdown",
   "metadata": {
    "slideshow": {
     "slide_type": "slide"
    }
   },
   "source": [
    "# Model Training: DataSet Split\n",
    "---\n"
   ]
  },
  {
   "cell_type": "markdown",
   "metadata": {
    "slideshow": {
     "slide_type": "-"
    }
   },
   "source": [
    "### Hold Out - Training set  and Test Set\n",
    "\n",
    "\n",
    "- Método mais simples de validação de resultados.\n",
    "- Dados são separados em 2 conjuntos: \n",
    "    - **Training Set** (~80% para in-memory data, <99% for bigdata/Deep Learning)\n",
    "    - **Test Set** (~20% para in-memory data, <1% for bigdata/Deep Learning)\n",
    "\n",
    "O Fit do modelos são feitos Training\n",
    "\n",
    "<img src=\"./images/train_test.jpg\" style=\"width:60%\" />"
   ]
  }
 ],
 "metadata": {
  "celltoolbar": "Slideshow",
  "kernelspec": {
   "display_name": "SADenv",
   "language": "python",
   "name": "sadenv"
  },
  "language_info": {
   "codemirror_mode": {
    "name": "ipython",
    "version": 3
   },
   "file_extension": ".py",
   "mimetype": "text/x-python",
   "name": "python",
   "nbconvert_exporter": "python",
   "pygments_lexer": "ipython3",
   "version": "3.6.0"
  }
 },
 "nbformat": 4,
 "nbformat_minor": 2
}
