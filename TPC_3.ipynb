{
 "cells": [
  {
   "cell_type": "markdown",
   "metadata": {},
   "source": [
    "\n",
    "# Sistemas de Suporte à Decisão\n",
    "\n",
    "---------------\n",
    "\n",
    "# TPC 2\n",
    "\n",
    "\n",
    "Crie um ficheiro em python para trabalhar o dataset \n",
    "\n",
    "```python \n",
    "    datasets.california_housing\n",
    "```\n",
    "\n",
    "Nesse ficheiro, crie um script (função) por alínea que lhe permita gerar novos datasets a partir do dataset principal, onde tenha usado cada um dos seguintes métodos de pre-processamento: \n",
    "\n",
    "    1) Aggregation\n",
    "    2) Sampling\n",
    "    4) Dimensionality Reduction \n",
    "    5) Feature Subset Selection \n",
    "    6) Feature Creation \n",
    "    7) Discretization and Binarization \n",
    "    8) Attribute Transformation\n",
    "\n",
    "\n",
    "O que é feito em cada caso, é da sua inteira liberdade. \n",
    "\n",
    "\n"
   ]
  }
 ],
 "metadata": {
  "kernelspec": {
   "display_name": "SADenv",
   "language": "python",
   "name": "sadenv"
  },
  "language_info": {
   "codemirror_mode": {
    "name": "ipython",
    "version": 3
   },
   "file_extension": ".py",
   "mimetype": "text/x-python",
   "name": "python",
   "nbconvert_exporter": "python",
   "pygments_lexer": "ipython3",
   "version": "3.6.0"
  }
 },
 "nbformat": 4,
 "nbformat_minor": 2
}
