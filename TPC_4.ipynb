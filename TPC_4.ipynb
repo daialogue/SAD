{
 "cells": [
  {
   "cell_type": "markdown",
   "metadata": {},
   "source": [
    "# SAD - TPC 4\n",
    "\n",
    "### Aplicar Algoritmos\n",
    "\n",
    "----\n",
    "\n",
    "\n",
    "- Usando sklearn correr os métodos Decision Tree, Random Forrest e Naive Bayes para o dataset Digits, definido em baixo;\n",
    "\n",
    "- Usar o training set para executar o treino do modelo;\n",
    "\n",
    "- Comparar o erro obtido em cada método, para o testset e para o training set e expecificar se os valores são os esperados;\n",
    "\n",
    "- Para um dos algoritmos, dar exemplos do test set de instâncias mal bem classificadas (2 de cada);\n",
    "\n",
    "O DataSet de dígitos pode ser carregado assim:"
   ]
  },
  {
   "cell_type": "code",
   "execution_count": 1,
   "metadata": {},
   "outputs": [],
   "source": [
    "\n",
    "# Import datasets, classifiers and performance metrics\n",
    "from sklearn import datasets\n",
    "\n",
    "# The digits dataset\n",
    "digits = datasets.load_digits()\n"
   ]
  }
 ],
 "metadata": {
  "kernelspec": {
   "display_name": "SADenv",
   "language": "python",
   "name": "sadenv"
  },
  "language_info": {
   "codemirror_mode": {
    "name": "ipython",
    "version": 3
   },
   "file_extension": ".py",
   "mimetype": "text/x-python",
   "name": "python",
   "nbconvert_exporter": "python",
   "pygments_lexer": "ipython3",
   "version": "3.6.0"
  }
 },
 "nbformat": 4,
 "nbformat_minor": 2
}
