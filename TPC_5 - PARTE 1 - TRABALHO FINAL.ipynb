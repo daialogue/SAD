{
 "cells": [
  {
   "cell_type": "markdown",
   "metadata": {},
   "source": [
    "\n",
    "\n",
    "</br></br>\n",
    "\n",
    "# Sistemas de Apoio à Decisão\n",
    "#### TPC 5 - PARTE 1 DO TRABALHO FINAL (15 dias)\n",
    "\n",
    "---------------\n",
    "\n",
    "\n",
    "##### Com base no seu dataset (Determinado para a sua resolução do Trabalho final)\n",
    "\n",
    "- Catalogar o dataset quanto a\n",
    "    - Dimensionalidade\n",
    "    - Esparsidade\n",
    "    - Resolução\n",
    "    - Tamanho\n",
    "\n",
    "\n",
    "- Catalogar todos as features (Máx 50), quanto a:\n",
    "    - valores de valores médios, variâncias,histogramas (crie um módulo que faça isto por si);\n",
    "    - Tipo (contínuo, discreto ou binário)   \n",
    "    - Analise NaN's (ou Nulls) e Outliers\n",
    "    - Analise os resultados\n",
    "    - Quais não fazem sentido em termos do problema que pretende resolver;\n",
    "    - Que outras features poderia utilizar para enriquecer a informação do seu problema;\n",
    "    - Perceba se deve ou não fazer encoding ou one hot encoding para cada feature discreta;\n",
    "    - Faça uma matriz de correlação entre as features usando ```dataframe.corr()```;\n",
    "\n",
    "- Analise em termos estatísticos a Label/target que tem para já como problema.\n",
    "\n",
    "- Faça um pequeno texto relatando o dataset que está a utilzar, recorrendo à informação que obteve nas perguntas anteriores;"
   ]
  }
 ],
 "metadata": {
  "kernelspec": {
   "display_name": "SADenv",
   "language": "python",
   "name": "sadenv"
  },
  "language_info": {
   "codemirror_mode": {
    "name": "ipython",
    "version": 3
   },
   "file_extension": ".py",
   "mimetype": "text/x-python",
   "name": "python",
   "nbconvert_exporter": "python",
   "pygments_lexer": "ipython3",
   "version": "3.6.0"
  }
 },
 "nbformat": 4,
 "nbformat_minor": 2
}
