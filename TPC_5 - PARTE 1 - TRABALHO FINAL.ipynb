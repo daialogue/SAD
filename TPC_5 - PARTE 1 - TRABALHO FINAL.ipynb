{
 "cells": [
  {
   "cell_type": "markdown",
   "metadata": {},
   "source": [
    "\n",
    "\n",
    "</br></br>\n",
    "\n",
    "# Sistemas de Apoio à Decisão\n",
    "#### TPC 5 - PARTE 1 DO TRABALHO FINAL (15 dias)\n",
    "\n",
    "---------------\n",
    "\n",
    "\n",
    "##### Com base no seu dataset (Determinado para a sua resolução do Trabalho final)\n",
    "\n",
    "1. Catalogar o dataset quanto a\n",
    "    - Dimensionalidade\n",
    "    - Esparsidade\n",
    "    - Resolução\n",
    "    - Tamanho\n",
    "\n",
    "\n",
    "2. Catalogar todos as features (Máx 50), quanto a (crie um módulo que faça isto por si):\n",
    "    - valores de valores médios, variâncias,histogramas;\n",
    "    - Tipo (contínuo, discreto ou binário)   \n",
    "    - Analise NaN's (ou Nulls) e Outliers\n",
    "    - Quais não fazem sentido em termos do problema que pretende resolver;\n",
    "    - Que outras features poderia utilizar para enriquecer a informação do seu problema;\n",
    "    - Perceba se deve ou não fazer encoding ou one hot encoding para cada feature discreta;\n",
    "    - Faça uma matriz de correlação entre as features usando ```dataframe.corr()```;\n",
    "\n",
    "    - Analise os resultados obtidos e seja crítico em relação ao que viu\n",
    "\n",
    "\n",
    "\n",
    "3. Analise em termos estatísticos a Label/target que tem para já como problema.\n",
    "\n",
    "---\n",
    "4. \n",
    "No final, faça um pequeno texto relatando o dataset que está a utilzar, recorrendo à informação que obteve nas perguntas anteriores;"
   ]
  }
 ],
 "metadata": {
  "kernelspec": {
   "display_name": "SADenv",
   "language": "python",
   "name": "sadenv"
  },
  "language_info": {
   "codemirror_mode": {
    "name": "ipython",
    "version": 3
   },
   "file_extension": ".py",
   "mimetype": "text/x-python",
   "name": "python",
   "nbconvert_exporter": "python",
   "pygments_lexer": "ipython3",
   "version": "3.6.0"
  }
 },
 "nbformat": 4,
 "nbformat_minor": 2
}
