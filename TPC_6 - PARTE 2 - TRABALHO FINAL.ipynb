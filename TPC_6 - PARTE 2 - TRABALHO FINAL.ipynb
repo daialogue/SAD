{
 "cells": [
  {
   "cell_type": "markdown",
   "metadata": {},
   "source": [
    "\n",
    "\n",
    "</br></br>\n",
    "\n",
    "# Sistemas de Apoio à Decisão\n",
    "#### TPC 6 - PARTE 2 DO TRABALHO FINAL (Último trabalho)\n",
    "\n",
    "---------------\n",
    "\n",
    "\n",
    "##### Com base no seu dataset (Determinado para a sua resolução do Trabalho final)\n",
    "\n",
    "- Aplicar 2 dos algoritmos dados nas aulas ao vosso dataset, para classificação/regressão/clustering, fazendo:\n",
    "    - Fazendo um split training set/test set;\n",
    "    - Traçando a curva de aprendizagem do método tendo em conta uma modificação sucessiva do tamanho dos dados de treino;\n",
    "    - Comparando os resultados dos algoritmos e mostrando o que melhor funciona;\n",
    "\n",
    "***Caso Seja um Regressor***\n",
    "- Apresentar RMSE dos dois métodos e comparar resultados;\n",
    "- Rever feautures usadas e procurar melhorar o resultado obtido, testando mais/outras features;\n",
    "    \n",
    "***Caso Seja um Classificador***\n",
    "\n",
    "- Escrever a matriz de confusao resultante da aplicação iterativa do método;\n",
    "- Medir a sua Precisão e Recall;\n",
    "- Definir um contexto de uso razoável do algoritmo e perceber se nessa situação é mais relevante a precisão ou o recall;\n",
    "- De acordo com a métrica encontrada, rever feautures usadas e procurar melhorar o resultado obtido, testando mais/outras features;\n",
    "    \n",
    "\n"
   ]
  }
 ],
 "metadata": {
  "kernelspec": {
   "display_name": "SADenv",
   "language": "python",
   "name": "sadenv"
  },
  "language_info": {
   "codemirror_mode": {
    "name": "ipython",
    "version": 3
   },
   "file_extension": ".py",
   "mimetype": "text/x-python",
   "name": "python",
   "nbconvert_exporter": "python",
   "pygments_lexer": "ipython3",
   "version": "3.6.0"
  }
 },
 "nbformat": 4,
 "nbformat_minor": 2
}
