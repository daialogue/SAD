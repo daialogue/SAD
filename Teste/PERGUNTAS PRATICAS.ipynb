{
 "cells": [
  {
   "cell_type": "markdown",
   "metadata": {},
   "source": [
    "# Sistemas de Apoio à Decisão\n",
    "\n",
    "## PERGUNTAS PRÁTICAS (com resolução)\n",
    "### 2018/17\n",
    "---\n",
    "\n",
    "\n",
    "#### 1) Dado o DataSet: \n",
    "\n",
    "\n",
    "|Código do Produto|Preço (€)|Vendas Mensais (unid/mes)|Volume ($cm^3$)|Tipo| Marca| Tipo de Venda|\n",
    "|-|-|-|-|-|-|-|\n",
    "|fdadfda3| 360| 3427| 60| Electrónica|Apple|Débito|\n",
    "|87f28442| 159| 35229| 99| Electrónica|Apple|Débito|\n",
    "|1064a1a4| 266| 11497| 77| Livros| Porto Editora|Débito|\n",
    "|a1a39089| 259| 4294| 31| Roupa|Levis|Débito|\n",
    "|e8a01f2b| 333| 32054| 66| Electrónica|Apple|Débito|\n",
    "|8b67b061| 439| 47712| 67| Livros|Porto Editora|Débito|\n",
    "|4d35871e| 311| 1002338| 94| Livros|Porto Editora|Débito|\n",
    "|3cbcfbef| 473| 1293| 65| Roupa|Levis|Débito|\n",
    "|a1a39089| 259| 4294| 31| Roupa|Levis|Débito|\n",
    "\n",
    "\n",
    "\n",
    "#### a) Faça a normalização do DataSet, no que diz respeito à sua feautures ```Preço``` e ```Volume```, considerando somente **os primeiros 4 registos**.\n",
    "\n",
    "----\n",
    "\n",
    "> **R:** Dada pelos vectores price_norm e vol_norm (no teste devem usar a maquina de calcular):\n",
    "\n",
    "\n",
    "Devemos começar por calcular a média e o desvio padrão de cada um dos conjuntos e subtrair/dividir (repsectivamente) os valores destes arrays \n",
    "\n",
    "Média:\n",
    "```\n",
    "price = [360, 159, 266, 259]\n",
    "vol = [60, 99, 77, 31]\n",
    "\n",
    "price_avg =  sum(price)/len(price)\n",
    "vol_avg =  sum(vol)/len(vol)\n",
    "\n",
    "```\n",
    "\n",
    "e obter os valores normalizados quanto à média (com média =0):\n",
    "\n",
    "```\n",
    "price_zeroavg = [p-price_avg for p in price]\n",
    "vol_zeroavg = [v-vol_avg for v in vol]\n",
    "\n",
    "price_zeroavg = [99.0, -102.0, 5.0, -2.0] \n",
    "vol_zeroavg = [-6.75, 32.25, 10.25, -35.75]\n",
    "```\n",
    "\n",
    "e dividir todos os termos pelo desvio padrão, dando ao conjunto um desvio padrão =1:\n",
    "\n",
    "\n",
    "```\n",
    "price_norm [1.3919521861771478, -1.434132555455243, 0.07030061546349231, -0.028120246185396925]\n",
    "vol_norm [-0.09490583087571462, 0.4534389697395254, 0.14411626170015923, -0.50264940056397]\n",
    "```"
   ]
  },
  {
   "cell_type": "code",
   "execution_count": 20,
   "metadata": {},
   "outputs": [
    {
     "name": "stdout",
     "output_type": "stream",
     "text": [
      "price_avg 261.0\n",
      "vol_avg 66.75\n",
      "price_desv 71.12313266441517\n",
      "vol_desv 24.843258642939738\n",
      "price_norm [1.3919521861771478, -1.434132555455243, 0.07030061546349231, -0.028120246185396925]\n",
      "vol_norm [-0.27170348693037893, 1.2981388820006992, 0.41258677644983466, -1.439022171520155]\n"
     ]
    }
   ],
   "source": [
    "price_avg =  sum(price)/len(price)\n",
    "vol_avg =  sum(vol)/len(vol)\n",
    "\n",
    "price_zeroavg = [99.0, -102.0, 5.0, -2.0] \n",
    "vol_zeroavg = [-6.75, 32.25, 10.25, -35.75]\n",
    "\n",
    "price_desv= (sum([(p-price_avg)**2/4 for p in price]))**0.5\n",
    "vol_desv = (sum([(v-vol_avg)**2/4 for v in vol]))**0.5\n",
    "\n",
    "print(\"price_avg\",price_avg)\n",
    "print(\"vol_avg\",vol_avg)\n",
    "print(\"price_desv\",price_desv)\n",
    "print(\"vol_desv\",vol_desv)\n",
    "\n",
    "price_norm = [p/price_desv for p in price_zeroavg]\n",
    "vol_norm = [p/vol_desv for p in vol_zeroavg]\n",
    "\n",
    "print(\"price_norm\",price_norm)\n",
    "print(\"vol_norm\",vol_norm)      "
   ]
  },
  {
   "cell_type": "markdown",
   "metadata": {},
   "source": [
    "#### b) Traduza a Feature ```Tipo``` usando one-hot Encoding"
   ]
  },
  {
   "cell_type": "markdown",
   "metadata": {},
   "source": [
    "|Tipo:|\n",
    "|--|\n",
    "|Electrónica|\n",
    "|Electrónica|\n",
    "|Livros|\n",
    "|Roupa|\n",
    "|Electrónica|\n",
    "|Livros|\n",
    "|Livros|\n",
    "|Roupa|\n",
    "|Roupa|\n",
    "\n",
    "passa para \n",
    "\n",
    "|Electrónica|Livros| Roupa|\n",
    "|--|--|--|\n",
    "|1|0|0|\n",
    "|1|0|0|\n",
    "|0|1|0|\n",
    "|0|0|1|\n",
    "|1|0|0|\n",
    "|0|1|0|\n",
    "|0|1|0|\n",
    "|0|0|1|\n",
    "|0|0|1|"
   ]
  },
  {
   "cell_type": "markdown",
   "metadata": {},
   "source": [
    "#### c) Diga qual é a dimensionalidade destes dados, se, para cada feature, os dados são esparsos ou densos e, também para cada feature, qual a sua resolução"
   ]
  },
  {
   "cell_type": "markdown",
   "metadata": {},
   "source": [
    "**R:**\n",
    "- dimensionalidade: 6 (ou 7 se considerarmos o código de produto);\n",
    "- Dados Densos (Tipo de Venda pode, no entanto, ser considerado esparso, por ser constante);\n",
    "- Resoluções:\n",
    "    - Preço (€): Euros (não tem cêntimos)\n",
    "    - Vendas Mensais (unid/mes): unidades/Mês\n",
    "    - Volume ($cm^3$): $cm^3$ \n",
    "    - Tipo: -\n",
    "    - Marca: -\n",
    "    - Tipo de Venda: -\n",
    "\n",
    "\n"
   ]
  },
  {
   "cell_type": "markdown",
   "metadata": {},
   "source": [
    "#### d) Aplique uma técnica de amostragem estratificada (stratified sampling) sobre o campo ```Tipo``` para obter uma amostra de 3 registos\n",
    "\n",
    "**R:** "
   ]
  },
  {
   "cell_type": "markdown",
   "metadata": {},
   "source": [
    "```\n",
    "[(fdadfda3, 'Electrónica'),\n",
    " (87f28442, 'Electrónica'),\n",
    " (1064a1a4, 'Electrónica'),\n",
    " (a1a39089, 'Livros'),\n",
    " (e8a01f2b, 'Livros'),\n",
    " (8b67b061, 'Livros'),\n",
    " (4d35871e, 'Roupa'),\n",
    " (3cbcfbef, 'Roupa'),\n",
    " (a1a39089, 'Roupa')]\n",
    "```"
   ]
  },
  {
   "cell_type": "markdown",
   "metadata": {},
   "source": [
    "> Para obtermos uma amostra de 3 valores teremos que escolher aleatoriamente 1 de cada \"Tipo\" (3 valores no total). Por exemplo:\n",
    "\n",
    "\n",
    "```\n",
    "[(87f28442, 'Electrónica'),\n",
    " (a1a39089, 'Livros'),\n",
    " (4d35871e, 'Roupa')]\n",
    "```"
   ]
  },
  {
   "cell_type": "markdown",
   "metadata": {},
   "source": [
    "#### e) Discretize a feature ```Preço``` de usando valores inteiros, de 20 em 20\n",
    "\n",
    "> **R:**"
   ]
  },
  {
   "cell_type": "markdown",
   "metadata": {},
   "source": [
    "```\n",
    "S = [360, 159, 266, 259, 333, 439, 311, 473, 259]\n",
    "\n",
    "S_discretizado = [360, 160, 260, 260, 340, 440, 320, 480, 260]\n",
    "```"
   ]
  },
  {
   "cell_type": "markdown",
   "metadata": {},
   "source": [
    "#### f) Binarize a feature ```Volume``` usando o seu valor médio como threshould\n",
    "\n",
    "> **R:** \n",
    "\n",
    "```\n",
    "X = [60,99,77,31,66,67,94,65,31]\n",
    "\n",
    "X_binarizado [0, 1, 1, 0, 1, 1, 1, 0, 0]\n",
    "          \n",
    "```\n"
   ]
  },
  {
   "cell_type": "markdown",
   "metadata": {},
   "source": [
    "#### g) Analisando os dados, diga se existe alguma feature redundante (para os dados fornecidos)\n",
    "\n",
    "> **R:** Sim, PARA OS REGISTOS APRESENTADOS, as features Tipo e Marca são redundantes."
   ]
  },
  {
   "cell_type": "markdown",
   "metadata": {},
   "source": [
    "#### h) Analisando os dados, diga se existe alguma feature irrelevante (para os dados fornecidos)\n",
    "\n",
    "> **R:** Sim, PARA OS REGISTOS APRESENTADOS, a feature \"Tipo de Venda\" é irrelevante"
   ]
  },
  {
   "cell_type": "markdown",
   "metadata": {},
   "source": [
    "#### i) Do dataSet dado veja se existem registos (ou atributos) com:\n",
    "\n",
    "- Outliers \n",
    "- Dados em Falta \n",
    "- Dados Duplicados\n",
    "\n",
    "> **R:**\n",
    "\n",
    "- **Outliers**: aparentemente existe um outlier em \"Vendas Mensais\" (>1000000 enqunto mais nenhum registo tem vendas destas, sequer próximas)\n",
    "\n",
    "- **Dados em Falta** : Não \n",
    "\n",
    "- **Dados Duplicados**: Sim, o registo a1a39089 parece ser duplicado"
   ]
  },
  {
   "cell_type": "markdown",
   "metadata": {},
   "source": [
    "#### 2) Considere o dataset da pergunta anterior (1), considere o seguinte problema:\n",
    "\n",
    "> Crie com base nos registos fornecidos um modelo que estime as vendas mensais de um dado produto para os próximos meses.\n",
    "\n",
    "a) Para este problema determine:\n",
    "\n",
    "- O tipo de modelo a criar;\n",
    "- O que é o Target/Label, caso exista;\n",
    "- O que são as features (retire aquelas que achar conveniente);\n",
    "\n",
    ">**R:**\n",
    "\n",
    "- O tipo de problema proposto - **Modelo de regressão**\n",
    "- O que é o Target/Label, caso exista - **target: vendas mensais**\n",
    "- O que são as features (retire aquelas que achar conveniente, dado o set de dados) -  \n",
    "\n",
    "[Preço (€), Volume ( 𝑐𝑚3 ), Marca ]\n",
    "\n",
    "    - Código do Produto - irrelevante\n",
    "    - Tipo/Marca\t- redundante\n",
    "    - Tipo de Venda - irrelevante\n",
    "\n"
   ]
  },
  {
   "cell_type": "markdown",
   "metadata": {},
   "source": [
    "-----\n",
    "\n",
    "\n",
    "#### 3) Considere os seguintes dados de um dataSet com a respectiva classe, que classifica o risco de devolução nos primeiros 10 dias.\n",
    "\n",
    "\n",
    "|Tipo| Marca| Tipo de Venda| Risco de Devolução |\n",
    "|-|-|-|-|\n",
    "| Electrónica|Apple|Débito| Alto|\n",
    "| Electrónica|Apple|Crédito|Alto|\n",
    "| Livros| Porto Editora|Débito| Baixo|\n",
    "| Roupa|Levis|Débito| Baixo|\n",
    "| Livros|Pearson |Débito|Baixo|\n",
    "| Electrónica|Apple|Crédito|Baixo|\n",
    "| Livros|Porto Editora|Débito|Baixo|\n",
    "| Roupa|Levis|Crédito|Alto|\n",
    "| Roupa|Levis|Débito|Baixo|\n",
    "\n",
    "\n",
    "a) Para este problema determine:\n",
    "\n",
    "- O tipo de modelo a criar;\n",
    "- O que é o Target/Label, caso exista;\n",
    "- O que são as features (retire aquelas que achar conveniente);\n",
    "\n",
    ">**R:**\n",
    "\n",
    "- O tipo de problema proposto - **Modelo de classificação**\n",
    "- O que é o Target/Label, caso exista - **target: Risco de Devolução**\n",
    "- O que são as features (retire aquelas que achar conveniente, dado o set de dados) -  \n",
    "Tipo| Marca| Tipo de Venda"
   ]
  },
  {
   "cell_type": "markdown",
   "metadata": {},
   "source": [
    "b) Verifique se o melhor split é usando ```Tipo``` ou ```Tipo de Venda```, calculando o gini Index do split resultante para cada um dos casos."
   ]
  },
  {
   "cell_type": "markdown",
   "metadata": {},
   "source": [
    ">**R:**\n",
    "\n",
    "gini index (Tipo) = "
   ]
  },
  {
   "cell_type": "markdown",
   "metadata": {},
   "source": [
    "```\n",
    "e =1-(2/3)**2-(1/3)**2\n",
    "r = 1-(2/3)**2-(1/3)**2\n",
    "l= 0\n",
    "\n",
    "d = 1-(1/6)**2-(5/6)**2\n",
    "c = 1-(1/3)**2-(2/3)**2\n",
    "\n",
    "gini_T = (3*e+3*r+3*l)/9\n",
    "gini_TV = (6*d+3*c)/9\n",
    "\n",
    "```\n",
    "\n",
    "- gini_T: 0.296\n",
    "- gini_TV: 0.333"
   ]
  },
  {
   "cell_type": "markdown",
   "metadata": {},
   "source": [
    "o \"Tipo\" será o split mais interessante (menor Gini Index)"
   ]
  },
  {
   "cell_type": "markdown",
   "metadata": {},
   "source": [
    "#### 4) Dados o dataset, normalizado e com dados contínuos, representado nesta tabela, classifique usando KNN o ponto p, com k = 3"
   ]
  },
  {
   "cell_type": "markdown",
   "metadata": {},
   "source": [
    "|id|Preço|Idade|Classe|\n",
    "| ---|---|---|---|\n",
    "| 1|0.70| 1.99|True|\n",
    "| 2|-0.72| -2.05|True|\n",
    "| 3|0.04| 0.10|False|\n",
    "| 4|-0.01| -0.04|True|\n",
    "| 5|0.22| 1.2|False|\n",
    "| 6|0.30| -0.2|True|\n",
    "\n",
    "p = (0.3,0.5)\n",
    "\n",
    ">**R:**"
   ]
  },
  {
   "cell_type": "markdown",
   "metadata": {},
   "source": [
    "p = (0.3,0.5)\n",
    "Data = [[0.70, -0.72, 0.04, -0.01, 0.22, 0.30], [1.99, -2.05, 0.10, -0.04, 1.2, -0.2]]\n",
    "\n",
    "\n",
    "$d = \\sqrt{(x^2+y^2)}$ para todos os  x,y\n",
    "\n",
    "``` \n",
    "d = \n",
    "[1.542757271899893,\n",
    " 2.7464340516385968,\n",
    " 0.47707441767506253,\n",
    " 0.6226556030423239,\n",
    " 0.7045565981523414,\n",
    " 0.7]\n",
    " ```\n",
    " \n",
    " \n"
   ]
  },
  {
   "cell_type": "markdown",
   "metadata": {},
   "source": [
    "Para k=3 os registos mais proximos são os id = 3,4,6, ou seja, Classe True"
   ]
  },
  {
   "cell_type": "markdown",
   "metadata": {},
   "source": [
    "#### 5) Dada a figura onde estão representadas duas classes reais, classificadas segundo um algoritmo tipo classificador, responda às seguintes perguntas:\n",
    "\n",
    "\n",
    "<img src=\"images/conf.png\" style=\"width:50%\"/>\n",
    "\n",
    "a) Descreva que parte corresponde aos 4 valores possiveis: FP, FN, TP, TN"
   ]
  },
  {
   "cell_type": "markdown",
   "metadata": {},
   "source": [
    "> **R:**\n",
    "- A = TN;\n",
    "- B = TP;\n",
    "- D = FN;\n",
    "- C = FP;"
   ]
  },
  {
   "cell_type": "markdown",
   "metadata": {},
   "source": [
    "b) Sabendo que C = 30% e D = 10%, construa a matriz da confusão resultante;"
   ]
  },
  {
   "cell_type": "markdown",
   "metadata": {},
   "source": [
    "\n",
    "|--|Estimado Pos|Estimado Neg|\n",
    "|--|---|---|\n",
    "|**Real Pos**|0.9|0.1|\n",
    "|**Real Neg**|0.3|0.7|"
   ]
  },
  {
   "cell_type": "markdown",
   "metadata": {},
   "source": [
    "c) Diga o que representa a linha vertical verde;\n",
    "\n",
    "> **R:** Threshold do Algoritmo"
   ]
  },
  {
   "cell_type": "markdown",
   "metadata": {},
   "source": [
    "d) Das 3 posições marcadas (1, 2 e 3) que posição corresponderia \n",
    "    - À precisão mais alta;\n",
    "    - Ao TPR (True Positive Rate) mais alto\n",
    "    \n",
    "Fundamente a sua respostas    \n",
    "\n",
    "    \n",
    "> **R:**\n",
    "    - À precisão mais alta - 2\n",
    "    - Ao TPR (True Positive Rate) mais alto - 1\n"
   ]
  },
  {
   "cell_type": "markdown",
   "metadata": {},
   "source": [
    "---\n",
    "\n",
    "#### 6) Considere as seguintes ROC curves: \n",
    "\n",
    "<img src=\"images/ROC.png\" style=\"width:40%\"/>\n",
    "\n",
    "a) Diga qual das curvas (A ou B) é a melhor opção para uma situação em que **não** é aceitável haver muitos falsos positivos.\n"
   ]
  },
  {
   "cell_type": "markdown",
   "metadata": {},
   "source": [
    ">**R:** B"
   ]
  },
  {
   "cell_type": "markdown",
   "metadata": {},
   "source": [
    "b) Qual dos algoritmos usaria, se não soubesse quais as taxas aceitáveis de FNR e FPR?"
   ]
  },
  {
   "cell_type": "markdown",
   "metadata": {},
   "source": [
    ">**R:** A, porque a ROC-AUC é maior\n"
   ]
  },
  {
   "cell_type": "markdown",
   "metadata": {},
   "source": [
    "#### 7) Considere dois classificadores (Alg.1 e Alg.2) que classificam os seguintes registos da seguinte forma (face à verdadeira classe):\n",
    "\n",
    "|id|Preço (euros)|Idade (meses)|Classe Real|Classe Alg. 1|Classe Alg. 2|\n",
    "| ---|---|---|---|---|---|\n",
    "| 1|70| 66|Bom|Bom|Mau|\n",
    "| 2|72| 5 |Bom|Mau|Bom|\n",
    "| 3|40| 12|Mau|Mau|Mau|\n",
    "| 4|10| 34|Mau|Mau|Bom|\n",
    "| 5|22| 52|Bom|Bom|Bom|\n",
    "| 6|30| 41|Bom|Mau|Bom|\n",
    "| 6|35| 55|Mau|Bom|Mau|\n",
    "| 5|12| 52|Bom|Bom|Bom|\n",
    "| 6|35| 43|Bom|Mau|Bom|\n",
    "| 6|35| 55|Mau|Bom|Mau|\n",
    "\n",
    "\n",
    "a) Quais as suas precisões (Accuracy)"
   ]
  },
  {
   "cell_type": "markdown",
   "metadata": {},
   "source": [
    "> **R:**\n",
    "\n",
    ">Alg1 Accuracy = 0.5\n",
    "\n",
    ">Alg2 Accuracy = 0.8\n"
   ]
  },
  {
   "cell_type": "markdown",
   "metadata": {},
   "source": [
    "b) Desenhe o ponto da roc curve do modelo Alg. 2 com os dados que tem"
   ]
  },
  {
   "cell_type": "markdown",
   "metadata": {},
   "source": [
    "> **R:**\n",
    "\n",
    "> FPR = 1/4\n",
    "\n",
    "> TPR = 5/6\n",
    "\n",
    "<img src=\"images/ROC_2.png\" style=\"width:40%\"/>\n"
   ]
  },
  {
   "cell_type": "markdown",
   "metadata": {},
   "source": [
    "- Alg. 1 = 85.075\n",
    "- Alg. 2 = 250.15"
   ]
  },
  {
   "cell_type": "markdown",
   "metadata": {},
   "source": [
    "#### 8) Dado o seguinte conjunto de Cestos de Compras;\n",
    "\n",
    "- {Leite, Fraldas, Cerveja}\n",
    "- {Leite, Fraldas, Cerveja, Fruta}\n",
    "- {Leite, Fraldas, Fruta}\n",
    "- {Leite, Cerveja, Fruta}\n",
    "- {Fraldas, Vinho}\n",
    "- {Leite, Chocolate, Cerveja}\n",
    "- {Leite, Chocolate, Cerveja, Fruta}\n",
    "- {Leite, Fraldas, Cerveja, Vinho}\n",
    "\n",
    "\n",
    "- Calcule o suporte e confiança para as seguintes regras\n",
    "\n",
    "    - {Leite} -> {Fraldas} \n",
    "    - {Fraldas} -> {Leite}  \n",
    "    - {Leite, Fraldas} -> {Cerveja}    \n",
    "\n",
    "> **R:**\n",
    "\n",
    "    - S: 4/8; C: 4/7;\n",
    "    - S: 4/8; C: 4/5;\n",
    "    - S: 3/8; C: 3/4;  \n",
    "\n",
    "\n",
    "- Considere o cesto frequente {Leite, Fraldas, Cerveja}. Crie todas as regras de associação possiveis a retirar desses items\n",
    "\n",
    ">**R:**\n",
    "> - {Leite, Fraldas}->{Cerveja}\n",
    "> - {Leite, Cerveja}->{Fraldas}\n",
    "> - {Fraldas, Cerveja}->{Leite}\n",
    "> - {Leite}->{Cerveja, Fraldas}\n",
    "> - {Fraldas}->{Leite, Cerveja}\n",
    "> - {Cerveja}->{Leite, Fraldas}\n"
   ]
  },
  {
   "cell_type": "markdown",
   "metadata": {},
   "source": [
    "— Verifique se alguma delas tem confiança acima de 0.6\n",
    "\n",
    ">**R:** Sim, existe."
   ]
  },
  {
   "cell_type": "markdown",
   "metadata": {},
   "source": [
    "\n",
    "|Preço (€)|Potencia (Cv)|Tipo|Dimensão|Tempo até à Venda (dias)|\n",
    "|-|-|-|-|-|\n",
    "| 36 000|130|desportivo|pequeno|12|\n",
    "| 15 900|110|pick-up|médio|29|\n",
    "| 26 600|130|desportivo|pequeno|51|\n",
    "| 25 900|150|desportivo|médio|63|\n",
    "| 33 300|110|pick-up|grande|74|\n",
    "| 43 900|180|desportivo|médio|34|\n",
    "| 31 100|130|limusine|grande|32|\n",
    "| 47 300|130|transporte|grande|87|\n",
    "| 25 900|150|transporte|muito grande|56|\n",
    "\n"
   ]
  }
 ],
 "metadata": {
  "kernelspec": {
   "display_name": "Python 3",
   "language": "python",
   "name": "python3"
  },
  "language_info": {
   "codemirror_mode": {
    "name": "ipython",
    "version": 3
   },
   "file_extension": ".py",
   "mimetype": "text/x-python",
   "name": "python",
   "nbconvert_exporter": "python",
   "pygments_lexer": "ipython3",
   "version": "3.6.0"
  }
 },
 "nbformat": 4,
 "nbformat_minor": 2
}
